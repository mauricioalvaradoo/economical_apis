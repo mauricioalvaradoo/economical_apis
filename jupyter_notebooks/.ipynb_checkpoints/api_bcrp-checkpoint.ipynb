{
 "cells": [
  {
   "cell_type": "markdown",
   "id": "7f1a9d1c-f789-4727-8131-89caa0054546",
   "metadata": {},
   "source": [
    "## Vinculacion con la API del BCRP\n",
    "\n",
    "En el presente documento se usara la API del Banco Central de Reserva del Peru para la importacion de una o mas series. Para ello, se usara la libreria `request` para las consultas con el servidoro"
   ]
  },
  {
   "cell_type": "code",
   "execution_count": 1,
   "id": "9c8a0555-ed0a-407f-80ae-630cccbd44a3",
   "metadata": {},
   "outputs": [],
   "source": [
    "import requests\n",
    "import pandas as pd\n",
    "import matplotlib.pyplot as plt\n",
    "import matplotlib.ticker as tck\n",
    "import matplotlib.dates as mdates\n",
    "from matplotlib.dates import DateFormatter\n",
    "from datetime import datetime\n",
    "\n",
    "#Ignorar warnings\n",
    "import sys\n",
    "import warnings\n",
    "warnings.simplefilter(\"ignore\")"
   ]
  },
  {
   "cell_type": "markdown",
   "id": "751fdd2e",
   "metadata": {},
   "source": [
    "La funcion para poder realizar una conexion con la API del BCRP data es la siguiente: "
   ]
  },
  {
   "cell_type": "code",
   "execution_count": 2,
   "id": "33c75893-a6b2-4534-b78a-77b9ff3c1e1a",
   "metadata": {},
   "outputs": [],
   "source": [
    "def api_bcrp(cantidad = None):\n",
    "    \n",
    "    \"\"\"\n",
    "    Importa una serie desde el BCRPData mediante su codigo y las fechas deseadas.\n",
    "    Se debe aplicar la funcion a una variable, la cual se va a convertir en una DataFrame con la informacion importada.\n",
    "    Es opcional determinar una cantidad de series por importar. En caso que no se defina, extraera solo una serie.\n",
    "    \n",
    "    -Hecho por: Mauricio Alvarado\n",
    "    mauricio.alvarado@pucp.pe\n",
    "    \"\"\"\n",
    "       \n",
    "    fechaini = input(\"Bridame la fecha de inicio: \")\n",
    "    fechafin = input(\"Bridame la fecha de fin: \")\n",
    "\n",
    "    df = pd.DataFrame()\n",
    "    \n",
    "    base = \"https://estadisticas.bcrp.gob.pe/estadisticas/series/api\"\n",
    "    \n",
    "    #Si no se coloca nada, es 1\n",
    "    if cantidad is None:\n",
    "        cantidad = 1\n",
    "    else:\n",
    "        cantidad = int(cantidad)\n",
    "    \n",
    "    \n",
    "    #Comenzaremos con el loop    \n",
    "    for i in range(1, cantidad + 1):\n",
    "        \n",
    "        series = str(input(\"Brindame el codigo de la serie: \"))\n",
    "        fechainicio = fechaini\n",
    "        fechafinal = fechafin\n",
    "    \n",
    "        url = f\"{base}/{series}/json/{fechainicio}/{fechafinal}/ing\"\n",
    "        \n",
    "        # Comenzando la vinculacion con el BCRP\n",
    "        r = requests.get(url)\n",
    "\n",
    "        if r.status_code == 200:\n",
    "            pass\n",
    "        \n",
    "        else:\n",
    "            print(\"Revisa los datos ingresados!\")\n",
    "            break\n",
    "    \n",
    "        r = r.json()\n",
    "    \n",
    "        periods = r.get(\"periods\")\n",
    "    \n",
    "        values_list = []\n",
    "        time_list = []\n",
    "            \n",
    "        for value in periods:\n",
    "            value = value[\"values\"][0]\n",
    "            values_list.append(float(value))\n",
    "\n",
    "        for time in periods:\n",
    "            time = time[\"name\"]\n",
    "            time_list.append(time)\n",
    "            \n",
    "        dic = {\"time\": time_list, f\"{series}\": values_list}\n",
    "        dic = pd.DataFrame(dic)\n",
    "                        \n",
    "        #Merging to the empty DataFrame\n",
    "        if df.empty is True:\n",
    "            df = pd.concat([df, dic])\n",
    "            print(f\"Has importado tu variable {i}! \\n\")\n",
    "            \n",
    "        else:\n",
    "            df = pd.merge(df, dic, how=\"outer\")\n",
    "            print(f\"Has importado tu variable {i}! \\n\")\n",
    "    \n",
    "    df = df.set_index(\"time\")\n",
    "        \n",
    "    return df"
   ]
  },
  {
   "cell_type": "code",
   "execution_count": 3,
   "id": "3a22416c-ba23-42bb-9720-6172d233034f",
   "metadata": {},
   "outputs": [
    {
     "data": {
      "text/plain": [
       "\u001b[1;31mSignature:\u001b[0m \u001b[0mapi_bcrp\u001b[0m\u001b[1;33m(\u001b[0m\u001b[0mcantidad\u001b[0m\u001b[1;33m=\u001b[0m\u001b[1;32mNone\u001b[0m\u001b[1;33m)\u001b[0m\u001b[1;33m\u001b[0m\u001b[1;33m\u001b[0m\u001b[0m\n",
       "\u001b[1;31mDocstring:\u001b[0m\n",
       "Importa una serie desde el BCRPData mediante su codigo y las fechas deseadas.\n",
       "Se debe aplicar la funcion a una variable, la cual se va a convertir en una DataFrame con la informacion importada.\n",
       "Es opcional determinar una cantidad de series por importar. En caso que no se defina, extraera solo una serie.\n",
       "\n",
       "-Hecho por: Mauricio Alvarado\n",
       "mauricio.alvarado@pucp.pe\n",
       "\u001b[1;31mFile:\u001b[0m      c:\\users\\user\\appdata\\local\\temp\\ipykernel_22112\\2814252723.py\n",
       "\u001b[1;31mType:\u001b[0m      function\n"
      ]
     },
     "metadata": {},
     "output_type": "display_data"
    }
   ],
   "source": [
    "?api_bcrp"
   ]
  },
  {
   "cell_type": "markdown",
   "id": "f8405f2c-ed1b-4ca8-944d-0c3b70699d0c",
   "metadata": {},
   "source": [
    "La funcion `wbscr_bcrp` nos permite importar, por _default_ una serie y la convierte en un _Dataframe_. En este primer caso se importara la inflacion mensual anuales -con codigo `PN01273PM`- desde el `2001-1` hasta el `2012-12`"
   ]
  },
  {
   "cell_type": "code",
   "execution_count": 4,
   "id": "d035ec2a-c647-4964-8e58-64b6e743a654",
   "metadata": {},
   "outputs": [
    {
     "name": "stdout",
     "output_type": "stream",
     "text": [
      "Bridame la fecha de inicio:  2001-1\n",
      "Bridame la fecha de fin:  2012-12\n",
      "Brindame el codigo de la serie:  PN01273PM\n"
     ]
    },
    {
     "name": "stdout",
     "output_type": "stream",
     "text": [
      "Has importado tu variable 1! \n",
      "\n"
     ]
    }
   ],
   "source": [
    "inflac = api_bcrp()"
   ]
  },
  {
   "cell_type": "code",
   "execution_count": 5,
   "id": "554f9df2-d8ba-4402-abd1-c3c35ff51f4b",
   "metadata": {},
   "outputs": [
    {
     "data": {
      "text/html": [
       "<div>\n",
       "<style scoped>\n",
       "    .dataframe tbody tr th:only-of-type {\n",
       "        vertical-align: middle;\n",
       "    }\n",
       "\n",
       "    .dataframe tbody tr th {\n",
       "        vertical-align: top;\n",
       "    }\n",
       "\n",
       "    .dataframe thead th {\n",
       "        text-align: right;\n",
       "    }\n",
       "</style>\n",
       "<table border=\"1\" class=\"dataframe\">\n",
       "  <thead>\n",
       "    <tr style=\"text-align: right;\">\n",
       "      <th></th>\n",
       "      <th>PN01273PM</th>\n",
       "    </tr>\n",
       "    <tr>\n",
       "      <th>time</th>\n",
       "      <th></th>\n",
       "    </tr>\n",
       "  </thead>\n",
       "  <tbody>\n",
       "    <tr>\n",
       "      <th>Jan.2001</th>\n",
       "      <td>3.856948</td>\n",
       "    </tr>\n",
       "    <tr>\n",
       "      <th>Feb.2001</th>\n",
       "      <td>3.614293</td>\n",
       "    </tr>\n",
       "    <tr>\n",
       "      <th>Mar.2001</th>\n",
       "      <td>3.579926</td>\n",
       "    </tr>\n",
       "    <tr>\n",
       "      <th>Apr.2001</th>\n",
       "      <td>2.623670</td>\n",
       "    </tr>\n",
       "  </tbody>\n",
       "</table>\n",
       "</div>"
      ],
      "text/plain": [
       "          PN01273PM\n",
       "time               \n",
       "Jan.2001   3.856948\n",
       "Feb.2001   3.614293\n",
       "Mar.2001   3.579926\n",
       "Apr.2001   2.623670"
      ]
     },
     "execution_count": 5,
     "metadata": {},
     "output_type": "execute_result"
    }
   ],
   "source": [
    "inflac.head(4)"
   ]
  },
  {
   "cell_type": "markdown",
   "id": "3cc6ca89-9807-4a9b-bf77-6d9098bf0cdd",
   "metadata": {},
   "source": [
    "Se realizara una transformacion de los datos del indice para convertirlos a formato `datetime`"
   ]
  },
  {
   "cell_type": "code",
   "execution_count": 6,
   "id": "7c0a546a-656a-4937-8338-a76f726df826",
   "metadata": {},
   "outputs": [],
   "source": [
    "inflac.index = pd.to_datetime(inflac.index, format=\"%b.%Y\")"
   ]
  },
  {
   "cell_type": "code",
   "execution_count": 7,
   "id": "11067a71-eaf4-4c6f-9263-5dbc2318bb8d",
   "metadata": {},
   "outputs": [
    {
     "data": {
      "image/png": "[encoded data removed]",
      "text/plain": [
       "<Figure size 720x288 with 1 Axes>"
      ]
     },
     "metadata": {
      "needs_background": "light"
     },
     "output_type": "display_data"
    }
   ],
   "source": [
    "fig, ax = plt.subplots(figsize=(10, 4), linewidth = 2.5)\n",
    "\n",
    "plt.title(\"Inflacion a 12 meses 2000-2012\", fontsize = 14)\n",
    "\n",
    "ax.plot(inflac, color= \"#3653A5\", linewidth = 2.5)\n",
    "\n",
    "# Ticks\n",
    "ax.xaxis.set_major_locator(mdates.YearLocator())\n",
    "ax.xaxis.set_major_formatter(mdates.DateFormatter('%Y'))\n",
    "ax.tick_params(direction='in', which='both', length=8, width=1, labelsize=12) # Formato de los ticks\n",
    "\n",
    "plt.savefig(\"./figures/inflacion2000-2012.pdf\", bbox_inches=\"tight\", transparent=True)\n",
    "plt.show()"
   ]
  },
  {
   "cell_type": "markdown",
   "id": "84ffd8aa-d957-47a2-a458-63e7eaee7d4c",
   "metadata": {},
   "source": [
    "De igual manera, se puede importar mas de una serie. Para ello, se debe colocar la cantidad de series como parametro en la funcion. Se importara el consumo privado -con codigo `PN02518AQ`- y el PBI trimestral con codigo -`PN02526AQ`-. Ambas variables trimestrales y en variaciones anuales. Los periodos seran del `2001T1`-`2019T4` "
   ]
  },
  {
   "cell_type": "code",
   "execution_count": 8,
   "id": "d63d878a-543d-43ac-ab53-1e6907904569",
   "metadata": {},
   "outputs": [
    {
     "name": "stdout",
     "output_type": "stream",
     "text": [
      "Bridame la fecha de inicio:  2001T1\n",
      "Bridame la fecha de fin:  2019T4\n",
      "Brindame el codigo de la serie:  PN02518AQ\n"
     ]
    },
    {
     "name": "stdout",
     "output_type": "stream",
     "text": [
      "Has importado tu variable 1! \n",
      "\n"
     ]
    },
    {
     "name": "stdout",
     "output_type": "stream",
     "text": [
      "Brindame el codigo de la serie:  PN02526AQ\n"
     ]
    },
    {
     "name": "stdout",
     "output_type": "stream",
     "text": [
      "Has importado tu variable 2! \n",
      "\n"
     ]
    }
   ],
   "source": [
    "dta = api_bcrp(2)"
   ]
  },
  {
   "cell_type": "code",
   "execution_count": 9,
   "id": "47d570d4-e05b-44f8-ba37-96e8929bc6df",
   "metadata": {},
   "outputs": [
    {
     "data": {
      "text/html": [
       "<div>\n",
       "<style scoped>\n",
       "    .dataframe tbody tr th:only-of-type {\n",
       "        vertical-align: middle;\n",
       "    }\n",
       "\n",
       "    .dataframe tbody tr th {\n",
       "        vertical-align: top;\n",
       "    }\n",
       "\n",
       "    .dataframe thead th {\n",
       "        text-align: right;\n",
       "    }\n",
       "</style>\n",
       "<table border=\"1\" class=\"dataframe\">\n",
       "  <thead>\n",
       "    <tr style=\"text-align: right;\">\n",
       "      <th></th>\n",
       "      <th>consumo</th>\n",
       "      <th>pbi</th>\n",
       "    </tr>\n",
       "    <tr>\n",
       "      <th>time</th>\n",
       "      <th></th>\n",
       "      <th></th>\n",
       "    </tr>\n",
       "  </thead>\n",
       "  <tbody>\n",
       "    <tr>\n",
       "      <th>Q1.19</th>\n",
       "      <td>3.580000</td>\n",
       "      <td>2.436272</td>\n",
       "    </tr>\n",
       "    <tr>\n",
       "      <th>Q2.19</th>\n",
       "      <td>2.910332</td>\n",
       "      <td>1.169576</td>\n",
       "    </tr>\n",
       "    <tr>\n",
       "      <th>Q3.19</th>\n",
       "      <td>3.430878</td>\n",
       "      <td>3.363626</td>\n",
       "    </tr>\n",
       "    <tr>\n",
       "      <th>Q4.19</th>\n",
       "      <td>3.080000</td>\n",
       "      <td>2.006436</td>\n",
       "    </tr>\n",
       "  </tbody>\n",
       "</table>\n",
       "</div>"
      ],
      "text/plain": [
       "        consumo       pbi\n",
       "time                     \n",
       "Q1.19  3.580000  2.436272\n",
       "Q2.19  2.910332  1.169576\n",
       "Q3.19  3.430878  3.363626\n",
       "Q4.19  3.080000  2.006436"
      ]
     },
     "execution_count": 9,
     "metadata": {},
     "output_type": "execute_result"
    }
   ],
   "source": [
    "dta.rename(columns = {\"PN02518AQ\":\"consumo\", \"PN02526AQ\":\"pbi\"}, inplace=True)\n",
    "\n",
    "dta.tail(4)"
   ]
  },
  {
   "cell_type": "markdown",
   "id": "a9b62ae8-f178-4e67-b4ab-9bfd5f0ec9f5",
   "metadata": {},
   "source": [
    "A pesar que la libreria `datetime` no permite un formato de fecha trimestral, se puede realizar una transformacion en el que se colocaran los trimestres en formato de meses"
   ]
  },
  {
   "cell_type": "code",
   "execution_count": 10,
   "id": "0bc7d63c-10e6-41c2-8fc4-735a154a0861",
   "metadata": {},
   "outputs": [],
   "source": [
    "dta.index = dta.index.str[3:] + dta.index.str[:2]\n",
    "dta.index = pd.PeriodIndex(dta.index.astype(str).str.replace(r'(\\d{4})[0]?(\\d{1})', r'\\1q\\2'), freq='Q').to_timestamp(freq='M')"
   ]
  },
  {
   "cell_type": "code",
   "execution_count": 11,
   "id": "f36c2743-dc03-440c-823a-5b2049870b5e",
   "metadata": {},
   "outputs": [
    {
     "data": {
      "text/html": [
       "<div>\n",
       "<style scoped>\n",
       "    .dataframe tbody tr th:only-of-type {\n",
       "        vertical-align: middle;\n",
       "    }\n",
       "\n",
       "    .dataframe tbody tr th {\n",
       "        vertical-align: top;\n",
       "    }\n",
       "\n",
       "    .dataframe thead th {\n",
       "        text-align: right;\n",
       "    }\n",
       "</style>\n",
       "<table border=\"1\" class=\"dataframe\">\n",
       "  <thead>\n",
       "    <tr style=\"text-align: right;\">\n",
       "      <th></th>\n",
       "      <th>consumo</th>\n",
       "      <th>pbi</th>\n",
       "    </tr>\n",
       "    <tr>\n",
       "      <th>time</th>\n",
       "      <th></th>\n",
       "      <th></th>\n",
       "    </tr>\n",
       "  </thead>\n",
       "  <tbody>\n",
       "    <tr>\n",
       "      <th>2019-01-31</th>\n",
       "      <td>3.580000</td>\n",
       "      <td>2.436272</td>\n",
       "    </tr>\n",
       "    <tr>\n",
       "      <th>2019-04-30</th>\n",
       "      <td>2.910332</td>\n",
       "      <td>1.169576</td>\n",
       "    </tr>\n",
       "    <tr>\n",
       "      <th>2019-07-31</th>\n",
       "      <td>3.430878</td>\n",
       "      <td>3.363626</td>\n",
       "    </tr>\n",
       "    <tr>\n",
       "      <th>2019-10-31</th>\n",
       "      <td>3.080000</td>\n",
       "      <td>2.006436</td>\n",
       "    </tr>\n",
       "  </tbody>\n",
       "</table>\n",
       "</div>"
      ],
      "text/plain": [
       "             consumo       pbi\n",
       "time                          \n",
       "2019-01-31  3.580000  2.436272\n",
       "2019-04-30  2.910332  1.169576\n",
       "2019-07-31  3.430878  3.363626\n",
       "2019-10-31  3.080000  2.006436"
      ]
     },
     "execution_count": 11,
     "metadata": {},
     "output_type": "execute_result"
    }
   ],
   "source": [
    "dta.tail(4)"
   ]
  },
  {
   "cell_type": "code",
   "execution_count": 12,
   "id": "e9d506de-19f3-4a4e-ac6b-c7f891aac872",
   "metadata": {},
   "outputs": [
    {
     "data": {
      "image/png": "[encoded data removed]",
      "text/plain": [
       "<Figure size 720x288 with 2 Axes>"
      ]
     },
     "metadata": {
      "needs_background": "light"
     },
     "output_type": "display_data"
    }
   ],
   "source": [
    "fig, ax1 = plt.subplots(figsize=(10, 4), linewidth = 2.5)\n",
    "ax2 = ax1.twinx()\n",
    "\n",
    "plt.text(0.5, 1.12, \"Consumo privado y PBI (var. % real anual)\", horizontalalignment='center', fontsize=14, transform = ax1.transAxes)\n",
    "\n",
    "# Gráficas\n",
    "ax1.plot(dta.index, dta[\"consumo\"], label = \"Consumo privado\", color= \"#3653A5\", linewidth = 2.5)\n",
    "ax2.plot(dta.index, dta[\"pbi\"], label = \"PBI\", color= \"#EE1F25\", linewidth = 2.5)\n",
    "\n",
    "# Posicionando las leyendas\n",
    "ax1.legend(bbox_to_anchor=(0, 1.13), loc = 'upper left', fontsize=13, frameon=False)\n",
    "ax2.legend(bbox_to_anchor=(1, 1.13), loc = 'upper right', fontsize=13, frameon=False)\n",
    "\n",
    "# Editando los ticks\n",
    "ax1.tick_params(direction='in', which='both', length=8, width=1, labelsize=12)\n",
    "ax2.tick_params(direction='in', which='both', length=8, width=1, labelsize=12)\n",
    "\n",
    "\n",
    "plt.savefig(\"./figures/consumo-pbi.pdf\", bbox_inches=\"tight\", transparent=True)\n",
    "plt.show()"
   ]
  }
 ],
 "metadata": {
  "kernelspec": {
   "display_name": "Python 3",
   "language": "python",
   "name": "python3"
  },
  "language_info": {
   "codemirror_mode": {
    "name": "ipython",
    "version": 3
   },
   "file_extension": ".py",
   "mimetype": "text/x-python",
   "name": "python",
   "nbconvert_exporter": "python",
   "pygments_lexer": "ipython3",
   "version": "3.11.1 (tags/v3.11.1:a7a450f, Dec  6 2022, 19:58:39) [MSC v.1934 64 bit (AMD64)]"
  },
  "vscode": {
   "interpreter": {
    "hash": "5ffd7eb2cebf9ac436b5021ba01877e9cee6b03524e01bf8c8637d3e64111215"
   }
  }
 },
 "nbformat": 4,
 "nbformat_minor": 5
}
