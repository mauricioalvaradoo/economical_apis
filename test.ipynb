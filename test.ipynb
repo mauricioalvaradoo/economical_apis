{
 "cells": [
  {
   "attachments": {},
   "cell_type": "markdown",
   "metadata": {},
   "source": [
    "## Testeo"
   ]
  },
  {
   "cell_type": "code",
   "execution_count": 1,
   "metadata": {},
   "outputs": [],
   "source": [
    "import api_BCRP\n",
    "import api_BM\n",
    "import api_FRED\n",
    "import api_IMF\n",
    "import api_OECD\n",
    "import api_YahooFinance"
   ]
  },
  {
   "attachments": {},
   "cell_type": "markdown",
   "metadata": {},
   "source": [
    "### API del BCRP"
   ]
  },
  {
   "cell_type": "code",
   "execution_count": 2,
   "metadata": {},
   "outputs": [
    {
     "data": {
      "text/html": [
       "<div>\n",
       "<style scoped>\n",
       "    .dataframe tbody tr th:only-of-type {\n",
       "        vertical-align: middle;\n",
       "    }\n",
       "\n",
       "    .dataframe tbody tr th {\n",
       "        vertical-align: top;\n",
       "    }\n",
       "\n",
       "    .dataframe thead th {\n",
       "        text-align: right;\n",
       "    }\n",
       "</style>\n",
       "<table border=\"1\" class=\"dataframe\">\n",
       "  <thead>\n",
       "    <tr style=\"text-align: right;\">\n",
       "      <th></th>\n",
       "      <th>Grupo de serie</th>\n",
       "      <th>Nombre de serie</th>\n",
       "      <th>Frecuencia</th>\n",
       "      <th>Fecha de inicio</th>\n",
       "      <th>Fecha de fin</th>\n",
       "    </tr>\n",
       "    <tr>\n",
       "      <th>Código de serie</th>\n",
       "      <th></th>\n",
       "      <th></th>\n",
       "      <th></th>\n",
       "      <th></th>\n",
       "      <th></th>\n",
       "    </tr>\n",
       "  </thead>\n",
       "  <tbody>\n",
       "    <tr>\n",
       "      <th>PN01205PM</th>\n",
       "      <td>Tipo de cambio - promedio del periodo (S/ por ...</td>\n",
       "      <td>Interbancario - Compra</td>\n",
       "      <td>Mensual</td>\n",
       "      <td>Abr-1995</td>\n",
       "      <td>Sep-2022</td>\n",
       "    </tr>\n",
       "    <tr>\n",
       "      <th>PN01206PM</th>\n",
       "      <td>Tipo de cambio - promedio del periodo (S/ por ...</td>\n",
       "      <td>Interbancario - Venta</td>\n",
       "      <td>Mensual</td>\n",
       "      <td>Abr-1995</td>\n",
       "      <td>Sep-2022</td>\n",
       "    </tr>\n",
       "    <tr>\n",
       "      <th>PN01207PM</th>\n",
       "      <td>Tipo de cambio - promedio del periodo (S/ por ...</td>\n",
       "      <td>Interbancario - Promedio</td>\n",
       "      <td>Mensual</td>\n",
       "      <td>Abr-1995</td>\n",
       "      <td>Sep-2022</td>\n",
       "    </tr>\n",
       "    <tr>\n",
       "      <th>PN01214PM</th>\n",
       "      <td>Tipo de cambio - fin de periodo (S/ por US$)</td>\n",
       "      <td>Interbancario - Compra</td>\n",
       "      <td>Mensual</td>\n",
       "      <td>Abr-1995</td>\n",
       "      <td>Sep-2022</td>\n",
       "    </tr>\n",
       "    <tr>\n",
       "      <th>PN01215PM</th>\n",
       "      <td>Tipo de cambio - fin de periodo (S/ por US$)</td>\n",
       "      <td>Interbancario - Venta</td>\n",
       "      <td>Mensual</td>\n",
       "      <td>Abr-1995</td>\n",
       "      <td>Sep-2022</td>\n",
       "    </tr>\n",
       "    <tr>\n",
       "      <th>PN01216PM</th>\n",
       "      <td>Tipo de cambio - fin de periodo (S/ por US$)</td>\n",
       "      <td>Interbancario - Promedio</td>\n",
       "      <td>Mensual</td>\n",
       "      <td>Abr-1995</td>\n",
       "      <td>Sep-2022</td>\n",
       "    </tr>\n",
       "  </tbody>\n",
       "</table>\n",
       "</div>"
      ],
      "text/plain": [
       "                                                    Grupo de serie  \\\n",
       "Código de serie                                                      \n",
       "PN01205PM        Tipo de cambio - promedio del periodo (S/ por ...   \n",
       "PN01206PM        Tipo de cambio - promedio del periodo (S/ por ...   \n",
       "PN01207PM        Tipo de cambio - promedio del periodo (S/ por ...   \n",
       "PN01214PM             Tipo de cambio - fin de periodo (S/ por US$)   \n",
       "PN01215PM             Tipo de cambio - fin de periodo (S/ por US$)   \n",
       "PN01216PM             Tipo de cambio - fin de periodo (S/ por US$)   \n",
       "\n",
       "                          Nombre de serie Frecuencia Fecha de inicio  \\\n",
       "Código de serie                                                        \n",
       "PN01205PM          Interbancario - Compra    Mensual        Abr-1995   \n",
       "PN01206PM           Interbancario - Venta    Mensual        Abr-1995   \n",
       "PN01207PM        Interbancario - Promedio    Mensual        Abr-1995   \n",
       "PN01214PM          Interbancario - Compra    Mensual        Abr-1995   \n",
       "PN01215PM           Interbancario - Venta    Mensual        Abr-1995   \n",
       "PN01216PM        Interbancario - Promedio    Mensual        Abr-1995   \n",
       "\n",
       "                Fecha de fin  \n",
       "Código de serie               \n",
       "PN01205PM           Sep-2022  \n",
       "PN01206PM           Sep-2022  \n",
       "PN01207PM           Sep-2022  \n",
       "PN01214PM           Sep-2022  \n",
       "PN01215PM           Sep-2022  \n",
       "PN01216PM           Sep-2022  "
      ]
     },
     "execution_count": 2,
     "metadata": {},
     "output_type": "execute_result"
    }
   ],
   "source": [
    "consulta = api_BCRP.get_codes([\"Interbancario\"], grupo=[\"Tipo\", \"Cambio\"], frecuencia=\"Mensual\")\n",
    "consulta"
   ]
  },
  {
   "cell_type": "code",
   "execution_count": 3,
   "metadata": {},
   "outputs": [
    {
     "data": {
      "text/html": [
       "<div>\n",
       "<style scoped>\n",
       "    .dataframe tbody tr th:only-of-type {\n",
       "        vertical-align: middle;\n",
       "    }\n",
       "\n",
       "    .dataframe tbody tr th {\n",
       "        vertical-align: top;\n",
       "    }\n",
       "\n",
       "    .dataframe thead th {\n",
       "        text-align: right;\n",
       "    }\n",
       "</style>\n",
       "<table border=\"1\" class=\"dataframe\">\n",
       "  <thead>\n",
       "    <tr style=\"text-align: right;\">\n",
       "      <th></th>\n",
       "      <th>TC Interbancario promedio - pdp</th>\n",
       "      <th>TC Interbancario compra - pdp</th>\n",
       "      <th>TC Interbancario venta - pdp</th>\n",
       "    </tr>\n",
       "    <tr>\n",
       "      <th>time</th>\n",
       "      <th></th>\n",
       "      <th></th>\n",
       "      <th></th>\n",
       "    </tr>\n",
       "  </thead>\n",
       "  <tbody>\n",
       "    <tr>\n",
       "      <th>2000-01-01</th>\n",
       "      <td>3.499776</td>\n",
       "      <td>3.498686</td>\n",
       "      <td>3.500867</td>\n",
       "    </tr>\n",
       "    <tr>\n",
       "      <th>2000-02-01</th>\n",
       "      <td>3.455024</td>\n",
       "      <td>3.453443</td>\n",
       "      <td>3.456605</td>\n",
       "    </tr>\n",
       "    <tr>\n",
       "      <th>2000-03-01</th>\n",
       "      <td>3.442857</td>\n",
       "      <td>3.441504</td>\n",
       "      <td>3.444209</td>\n",
       "    </tr>\n",
       "    <tr>\n",
       "      <th>2000-04-01</th>\n",
       "      <td>3.478736</td>\n",
       "      <td>3.477294</td>\n",
       "      <td>3.480178</td>\n",
       "    </tr>\n",
       "    <tr>\n",
       "      <th>2000-05-01</th>\n",
       "      <td>3.504061</td>\n",
       "      <td>3.503100</td>\n",
       "      <td>3.505023</td>\n",
       "    </tr>\n",
       "  </tbody>\n",
       "</table>\n",
       "</div>"
      ],
      "text/plain": [
       "            TC Interbancario promedio - pdp  TC Interbancario compra - pdp  \\\n",
       "time                                                                         \n",
       "2000-01-01                         3.499776                       3.498686   \n",
       "2000-02-01                         3.455024                       3.453443   \n",
       "2000-03-01                         3.442857                       3.441504   \n",
       "2000-04-01                         3.478736                       3.477294   \n",
       "2000-05-01                         3.504061                       3.503100   \n",
       "\n",
       "            TC Interbancario venta - pdp  \n",
       "time                                      \n",
       "2000-01-01                      3.500867  \n",
       "2000-02-01                      3.456605  \n",
       "2000-03-01                      3.444209  \n",
       "2000-04-01                      3.480178  \n",
       "2000-05-01                      3.505023  "
      ]
     },
     "execution_count": 3,
     "metadata": {},
     "output_type": "execute_result"
    }
   ],
   "source": [
    "df = api_BCRP.get_data({\n",
    "    \"PN01207PM\": \"TC Interbancario promedio - pdp\",\n",
    "    \"PN01205PM\": \"TC Interbancario compra - pdp\",\n",
    "    \"PN01206PM\": \"TC Interbancario venta - pdp\"\n",
    "    },\n",
    "    fechaini = \"2000-01\",\n",
    "    fechafin = \"2022-01\"\n",
    ")\n",
    "\n",
    "df.head()"
   ]
  },
  {
   "cell_type": "code",
   "execution_count": 4,
   "metadata": {},
   "outputs": [
    {
     "data": {
      "text/html": [
       "<div>\n",
       "<style scoped>\n",
       "    .dataframe tbody tr th:only-of-type {\n",
       "        vertical-align: middle;\n",
       "    }\n",
       "\n",
       "    .dataframe tbody tr th {\n",
       "        vertical-align: top;\n",
       "    }\n",
       "\n",
       "    .dataframe thead th {\n",
       "        text-align: right;\n",
       "    }\n",
       "</style>\n",
       "<table border=\"1\" class=\"dataframe\">\n",
       "  <thead>\n",
       "    <tr style=\"text-align: right;\">\n",
       "      <th></th>\n",
       "      <th>Código de serie</th>\n",
       "      <th>Grupo de serie</th>\n",
       "      <th>Nombre de serie</th>\n",
       "      <th>Frecuencia</th>\n",
       "      <th>Fecha de inicio</th>\n",
       "      <th>Fecha de fin</th>\n",
       "    </tr>\n",
       "  </thead>\n",
       "  <tbody>\n",
       "    <tr>\n",
       "      <th>1145</th>\n",
       "      <td>PN01207PM</td>\n",
       "      <td>Tipo de cambio - promedio del periodo (S/ por ...</td>\n",
       "      <td>Interbancario - Promedio</td>\n",
       "      <td>Mensual</td>\n",
       "      <td>Abr-1995</td>\n",
       "      <td>Sep-2022</td>\n",
       "    </tr>\n",
       "  </tbody>\n",
       "</table>\n",
       "</div>"
      ],
      "text/plain": [
       "     Código de serie                                     Grupo de serie  \\\n",
       "1145       PN01207PM  Tipo de cambio - promedio del periodo (S/ por ...   \n",
       "\n",
       "               Nombre de serie Frecuencia Fecha de inicio Fecha de fin  \n",
       "1145  Interbancario - Promedio    Mensual        Abr-1995     Sep-2022  "
      ]
     },
     "execution_count": 4,
     "metadata": {},
     "output_type": "execute_result"
    }
   ],
   "source": [
    "metadata = api_BCRP.get_documentation(\"PN01207PM\")\n",
    "metadata"
   ]
  },
  {
   "attachments": {},
   "cell_type": "markdown",
   "metadata": {},
   "source": [
    "### API del Banco Mundial"
   ]
  },
  {
   "cell_type": "code",
   "execution_count": null,
   "metadata": {},
   "outputs": [],
   "source": []
  },
  {
   "cell_type": "code",
   "execution_count": null,
   "metadata": {},
   "outputs": [],
   "source": []
  },
  {
   "attachments": {},
   "cell_type": "markdown",
   "metadata": {},
   "source": [
    "### API de la FRED"
   ]
  },
  {
   "cell_type": "code",
   "execution_count": null,
   "metadata": {},
   "outputs": [],
   "source": []
  },
  {
   "cell_type": "code",
   "execution_count": null,
   "metadata": {},
   "outputs": [],
   "source": []
  },
  {
   "attachments": {},
   "cell_type": "markdown",
   "metadata": {},
   "source": [
    "### API del IMF"
   ]
  },
  {
   "cell_type": "code",
   "execution_count": null,
   "metadata": {},
   "outputs": [],
   "source": []
  },
  {
   "cell_type": "code",
   "execution_count": null,
   "metadata": {},
   "outputs": [],
   "source": []
  },
  {
   "attachments": {},
   "cell_type": "markdown",
   "metadata": {},
   "source": [
    "### API de la OCDE"
   ]
  },
  {
   "cell_type": "code",
   "execution_count": null,
   "metadata": {},
   "outputs": [],
   "source": []
  },
  {
   "cell_type": "code",
   "execution_count": null,
   "metadata": {},
   "outputs": [],
   "source": []
  },
  {
   "attachments": {},
   "cell_type": "markdown",
   "metadata": {},
   "source": [
    "### API de Yahoo Finance"
   ]
  },
  {
   "cell_type": "code",
   "execution_count": 5,
   "metadata": {},
   "outputs": [
    {
     "data": {
      "text/html": [
       "<div>\n",
       "<style scoped>\n",
       "    .dataframe tbody tr th:only-of-type {\n",
       "        vertical-align: middle;\n",
       "    }\n",
       "\n",
       "    .dataframe tbody tr th {\n",
       "        vertical-align: top;\n",
       "    }\n",
       "\n",
       "    .dataframe thead th {\n",
       "        text-align: right;\n",
       "    }\n",
       "</style>\n",
       "<table border=\"1\" class=\"dataframe\">\n",
       "  <thead>\n",
       "    <tr style=\"text-align: right;\">\n",
       "      <th></th>\n",
       "      <th>Name</th>\n",
       "      <th>Country</th>\n",
       "      <th>IPO Year</th>\n",
       "      <th>Sector</th>\n",
       "      <th>Industry</th>\n",
       "    </tr>\n",
       "    <tr>\n",
       "      <th>Symbol</th>\n",
       "      <th></th>\n",
       "      <th></th>\n",
       "      <th></th>\n",
       "      <th></th>\n",
       "      <th></th>\n",
       "    </tr>\n",
       "  </thead>\n",
       "  <tbody>\n",
       "    <tr>\n",
       "      <th>TSLA</th>\n",
       "      <td>Tesla Inc. Common Stock</td>\n",
       "      <td>United States</td>\n",
       "      <td>2010.0</td>\n",
       "      <td>Consumer Discretionary</td>\n",
       "      <td>Auto Manufacturing</td>\n",
       "    </tr>\n",
       "  </tbody>\n",
       "</table>\n",
       "</div>"
      ],
      "text/plain": [
       "                           Name        Country  IPO Year  \\\n",
       "Symbol                                                     \n",
       "TSLA    Tesla Inc. Common Stock  United States    2010.0   \n",
       "\n",
       "                        Sector            Industry  \n",
       "Symbol                                              \n",
       "TSLA    Consumer Discretionary  Auto Manufacturing  "
      ]
     },
     "execution_count": 5,
     "metadata": {},
     "output_type": "execute_result"
    }
   ],
   "source": [
    "consulta = api_YahooFinance.get_codes([\"Tesla\"])\n",
    "consulta"
   ]
  },
  {
   "cell_type": "code",
   "execution_count": 6,
   "metadata": {},
   "outputs": [
    {
     "data": {
      "text/html": [
       "<div>\n",
       "<style scoped>\n",
       "    .dataframe tbody tr th:only-of-type {\n",
       "        vertical-align: middle;\n",
       "    }\n",
       "\n",
       "    .dataframe tbody tr th {\n",
       "        vertical-align: top;\n",
       "    }\n",
       "\n",
       "    .dataframe thead th {\n",
       "        text-align: right;\n",
       "    }\n",
       "</style>\n",
       "<table border=\"1\" class=\"dataframe\">\n",
       "  <thead>\n",
       "    <tr style=\"text-align: right;\">\n",
       "      <th></th>\n",
       "      <th>Apple</th>\n",
       "      <th>Microsoft</th>\n",
       "      <th>Tesla</th>\n",
       "    </tr>\n",
       "    <tr>\n",
       "      <th>Date</th>\n",
       "      <th></th>\n",
       "      <th></th>\n",
       "      <th></th>\n",
       "    </tr>\n",
       "  </thead>\n",
       "  <tbody>\n",
       "    <tr>\n",
       "      <th>2023-01-10</th>\n",
       "      <td>130.729996</td>\n",
       "      <td>228.850006</td>\n",
       "      <td>118.849998</td>\n",
       "    </tr>\n",
       "    <tr>\n",
       "      <th>2023-01-11</th>\n",
       "      <td>133.490005</td>\n",
       "      <td>235.770004</td>\n",
       "      <td>123.220001</td>\n",
       "    </tr>\n",
       "    <tr>\n",
       "      <th>2023-01-12</th>\n",
       "      <td>133.410004</td>\n",
       "      <td>238.509995</td>\n",
       "      <td>123.559998</td>\n",
       "    </tr>\n",
       "    <tr>\n",
       "      <th>2023-01-13</th>\n",
       "      <td>134.759995</td>\n",
       "      <td>239.229996</td>\n",
       "      <td>122.400002</td>\n",
       "    </tr>\n",
       "    <tr>\n",
       "      <th>2023-01-17</th>\n",
       "      <td>135.725006</td>\n",
       "      <td>240.059998</td>\n",
       "      <td>NaN</td>\n",
       "    </tr>\n",
       "  </tbody>\n",
       "</table>\n",
       "</div>"
      ],
      "text/plain": [
       "                 Apple   Microsoft       Tesla\n",
       "Date                                          \n",
       "2023-01-10  130.729996  228.850006  118.849998\n",
       "2023-01-11  133.490005  235.770004  123.220001\n",
       "2023-01-12  133.410004  238.509995  123.559998\n",
       "2023-01-13  134.759995  239.229996  122.400002\n",
       "2023-01-17  135.725006  240.059998         NaN"
      ]
     },
     "execution_count": 6,
     "metadata": {},
     "output_type": "execute_result"
    }
   ],
   "source": [
    "df = api_YahooFinance.get_data({\n",
    "    \"AAPL\": \"Apple\",\n",
    "    \"MSFT\": \"Microsoft\",\n",
    "    \"TSLA\": \"Tesla\"\n",
    "    }\n",
    ")\n",
    "\n",
    "df.tail()"
   ]
  },
  {
   "cell_type": "code",
   "execution_count": 7,
   "metadata": {},
   "outputs": [
    {
     "data": {
      "text/html": [
       "<div>\n",
       "<style scoped>\n",
       "    .dataframe tbody tr th:only-of-type {\n",
       "        vertical-align: middle;\n",
       "    }\n",
       "\n",
       "    .dataframe tbody tr th {\n",
       "        vertical-align: top;\n",
       "    }\n",
       "\n",
       "    .dataframe thead th {\n",
       "        text-align: right;\n",
       "    }\n",
       "</style>\n",
       "<table border=\"1\" class=\"dataframe\">\n",
       "  <thead>\n",
       "    <tr style=\"text-align: right;\">\n",
       "      <th></th>\n",
       "      <th>Apple</th>\n",
       "      <th>Microsoft</th>\n",
       "      <th>Tesla</th>\n",
       "    </tr>\n",
       "    <tr>\n",
       "      <th>Date</th>\n",
       "      <th></th>\n",
       "      <th></th>\n",
       "      <th></th>\n",
       "    </tr>\n",
       "  </thead>\n",
       "  <tbody>\n",
       "    <tr>\n",
       "      <th>2022-12-23</th>\n",
       "      <td>131.860001</td>\n",
       "      <td>238.729996</td>\n",
       "      <td>123.150002</td>\n",
       "    </tr>\n",
       "    <tr>\n",
       "      <th>2022-12-27</th>\n",
       "      <td>130.029999</td>\n",
       "      <td>236.960007</td>\n",
       "      <td>109.099998</td>\n",
       "    </tr>\n",
       "    <tr>\n",
       "      <th>2022-12-28</th>\n",
       "      <td>126.040001</td>\n",
       "      <td>234.529999</td>\n",
       "      <td>112.709999</td>\n",
       "    </tr>\n",
       "    <tr>\n",
       "      <th>2022-12-29</th>\n",
       "      <td>129.610001</td>\n",
       "      <td>241.009995</td>\n",
       "      <td>121.820000</td>\n",
       "    </tr>\n",
       "    <tr>\n",
       "      <th>2022-12-30</th>\n",
       "      <td>129.929993</td>\n",
       "      <td>239.820007</td>\n",
       "      <td>123.180000</td>\n",
       "    </tr>\n",
       "  </tbody>\n",
       "</table>\n",
       "</div>"
      ],
      "text/plain": [
       "                 Apple   Microsoft       Tesla\n",
       "Date                                          \n",
       "2022-12-23  131.860001  238.729996  123.150002\n",
       "2022-12-27  130.029999  236.960007  109.099998\n",
       "2022-12-28  126.040001  234.529999  112.709999\n",
       "2022-12-29  129.610001  241.009995  121.820000\n",
       "2022-12-30  129.929993  239.820007  123.180000"
      ]
     },
     "execution_count": 7,
     "metadata": {},
     "output_type": "execute_result"
    }
   ],
   "source": [
    "df = api_YahooFinance.get_data({\n",
    "    \"AAPL\": \"Apple\",\n",
    "    \"MSFT\": \"Microsoft\",\n",
    "    \"TSLA\": \"Tesla\"\n",
    "    },\n",
    "    fechaini = \"2015-01-01\",\n",
    "    fechafin = \"2022-12-31\"\n",
    ")\n",
    "\n",
    "df.tail()"
   ]
  }
 ],
 "metadata": {
  "kernelspec": {
   "display_name": "base",
   "language": "python",
   "name": "python3"
  },
  "language_info": {
   "codemirror_mode": {
    "name": "ipython",
    "version": 3
   },
   "file_extension": ".py",
   "mimetype": "text/x-python",
   "name": "python",
   "nbconvert_exporter": "python",
   "pygments_lexer": "ipython3",
   "version": "3.9.13"
  },
  "orig_nbformat": 4,
  "vscode": {
   "interpreter": {
    "hash": "a077222d77dfe082b8f1dd562ad70e458ac2ab76993a0b248ab0476e32e9e8dd"
   }
  }
 },
 "nbformat": 4,
 "nbformat_minor": 2
}
